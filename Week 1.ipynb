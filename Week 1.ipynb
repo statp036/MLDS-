{
 "cells": [
  {
   "cell_type": "markdown",
   "id": "34097913",
   "metadata": {},
   "source": [
    "# Introduction"
   ]
  },
  {
   "cell_type": "code",
   "execution_count": 1,
   "id": "27a08e90",
   "metadata": {},
   "outputs": [
    {
     "ename": "SyntaxError",
     "evalue": "invalid syntax (2499169727.py, line 7)",
     "output_type": "error",
     "traceback": [
      "\u001b[1;36m  Input \u001b[1;32mIn [1]\u001b[1;36m\u001b[0m\n\u001b[1;33m    - Data at a glance\u001b[0m\n\u001b[1;37m           ^\u001b[0m\n\u001b[1;31mSyntaxError\u001b[0m\u001b[1;31m:\u001b[0m invalid syntax\n"
     ]
    }
   ],
   "source": [
    "### Section 1:\n",
    "\n",
    "- What is regression?\n",
    "- What is data?\n",
    "- Where to look for data?\n",
    "- Libraries\n",
    "- Data at a glance"
   ]
  },
  {
   "cell_type": "code",
   "execution_count": null,
   "id": "cbe91000",
   "metadata": {},
   "outputs": [],
   "source": [
    "https://www.kaggle.com/datasets/harlfoxem/housesalesprediction"
   ]
  },
  {
   "cell_type": "code",
   "execution_count": null,
   "id": "b15ccc1d",
   "metadata": {},
   "outputs": [],
   "source": [
    "![matrix](matrix-1.png)"
   ]
  },
  {
   "cell_type": "code",
   "execution_count": null,
   "id": "07a480a7",
   "metadata": {},
   "outputs": [],
   "source": [
    "notes:\n",
    "no data dictionary present\n",
    "assumptions:\n",
    "- id - unique id for house\n",
    "- price - price of the house\n",
    "- bedrooms - number of bedrooms in the house\n",
    "- bathroom - number of bathrooms in the house\n",
    "- sqft_living - sqft the house itself is in the land\n",
    "- sqft_lot - sqft of othe house as a whole\n",
    "- waterfront - (binary) any waterfront property\n",
    "- view - (binary) does house has a view\n",
    "- grade - structural quality of the house"
   ]
  },
  {
   "cell_type": "code",
   "execution_count": null,
   "id": "8d69a781",
   "metadata": {},
   "outputs": [],
   "source": [
    "import numpy as np\n",
    "import pandas as pd\n",
    "import matplotlib.pyplot as plt\n",
    "%matplotlib inline"
   ]
  },
  {
   "cell_type": "code",
   "execution_count": null,
   "id": "1b52096f",
   "metadata": {},
   "outputs": [],
   "source": [
    "df = pd.read_csv('kc_house_data.csv')\n",
    "df.head()"
   ]
  },
  {
   "cell_type": "code",
   "execution_count": null,
   "id": "5ff8da27",
   "metadata": {},
   "outputs": [],
   "source": [
    "print(df.shape)\n",
    "print(df.columns)"
   ]
  },
  {
   "cell_type": "code",
   "execution_count": null,
   "id": "aa34c04e",
   "metadata": {},
   "outputs": [],
   "source": [
    "df.info()"
   ]
  },
  {
   "cell_type": "code",
   "execution_count": null,
   "id": "8f0b7faf",
   "metadata": {},
   "outputs": [],
   "source": [
    "#df = df.dropna()\n",
    "df.isnull().sum()"
   ]
  }
 ],
 "metadata": {
  "kernelspec": {
   "display_name": "Python 3 (ipykernel)",
   "language": "python",
   "name": "python3"
  },
  "language_info": {
   "codemirror_mode": {
    "name": "ipython",
    "version": 3
   },
   "file_extension": ".py",
   "mimetype": "text/x-python",
   "name": "python",
   "nbconvert_exporter": "python",
   "pygments_lexer": "ipython3",
   "version": "3.9.12"
  }
 },
 "nbformat": 4,
 "nbformat_minor": 5
}
