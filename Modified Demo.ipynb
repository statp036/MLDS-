{
 "cells": [
  {
   "cell_type": "markdown",
   "id": "dbc5ceae",
   "metadata": {},
   "source": [
    "# Introduction"
   ]
  },
  {
   "cell_type": "markdown",
   "id": "243215a5",
   "metadata": {},
   "source": [
    "### Section 1:\n",
    "\n",
    "- What is regression?\n",
    "- What is data?\n",
    "- Where to look for data?\n",
    "- Libraries\n",
    "- Data at a glance"
   ]
  },
  {
   "cell_type": "markdown",
   "id": "83bc3364",
   "metadata": {},
   "source": [
    "https://www.kaggle.com/datasets/harlfoxem/housesalesprediction"
   ]
  },
  {
   "cell_type": "markdown",
   "id": "0b4d8049",
   "metadata": {},
   "source": [
    "A dataset can be thought as a matrix where each row represents a record (vector) and each column represents a feature"
   ]
  },
  {
   "cell_type": "markdown",
   "id": "0bf30556",
   "metadata": {},
   "source": [
    "![matrix](matrix-1.png)"
   ]
  },
  {
   "cell_type": "markdown",
   "id": "06e560d9",
   "metadata": {},
   "source": [
    "notes:\n",
    "no data dictionary present\n",
    "assumptions:\n",
    "- id - unique id for house\n",
    "- price - price of the house\n",
    "- bedrooms - number of bedrooms in the house\n",
    "- bathroom - number of bathrooms in the house\n",
    "- sqft_living - sqft the house itself is in the land\n",
    "- sqft_lot - sqft of othe house as a whole\n",
    "- waterfront - (binary) any waterfront property\n",
    "- view - (binary) does house has a view\n",
    "- grade - structural quality of the house"
   ]
  },
  {
   "cell_type": "code",
   "execution_count": 6,
   "id": "2f946e4b",
   "metadata": {},
   "outputs": [],
   "source": [
    "import numpy as np\n",
    "import pandas as pd\n",
    "import matplotlib.pyplot as plt\n",
    "%matplotlib inline"
   ]
  },
  {
   "cell_type": "code",
   "execution_count": 7,
   "id": "9960b6d7",
   "metadata": {},
   "outputs": [
    {
     "data": {
      "text/html": [
       "<div>\n",
       "<style scoped>\n",
       "    .dataframe tbody tr th:only-of-type {\n",
       "        vertical-align: middle;\n",
       "    }\n",
       "\n",
       "    .dataframe tbody tr th {\n",
       "        vertical-align: top;\n",
       "    }\n",
       "\n",
       "    .dataframe thead th {\n",
       "        text-align: right;\n",
       "    }\n",
       "</style>\n",
       "<table border=\"1\" class=\"dataframe\">\n",
       "  <thead>\n",
       "    <tr style=\"text-align: right;\">\n",
       "      <th></th>\n",
       "      <th>id</th>\n",
       "      <th>date</th>\n",
       "      <th>price</th>\n",
       "      <th>bedrooms</th>\n",
       "      <th>bathrooms</th>\n",
       "      <th>sqft_living</th>\n",
       "      <th>sqft_lot</th>\n",
       "      <th>floors</th>\n",
       "      <th>waterfront</th>\n",
       "      <th>view</th>\n",
       "      <th>...</th>\n",
       "      <th>grade</th>\n",
       "      <th>sqft_above</th>\n",
       "      <th>sqft_basement</th>\n",
       "      <th>yr_built</th>\n",
       "      <th>yr_renovated</th>\n",
       "      <th>zipcode</th>\n",
       "      <th>lat</th>\n",
       "      <th>long</th>\n",
       "      <th>sqft_living15</th>\n",
       "      <th>sqft_lot15</th>\n",
       "    </tr>\n",
       "  </thead>\n",
       "  <tbody>\n",
       "    <tr>\n",
       "      <th>0</th>\n",
       "      <td>7129300520</td>\n",
       "      <td>20141013T000000</td>\n",
       "      <td>221900.0</td>\n",
       "      <td>3</td>\n",
       "      <td>1.00</td>\n",
       "      <td>1180</td>\n",
       "      <td>5650</td>\n",
       "      <td>1.0</td>\n",
       "      <td>0</td>\n",
       "      <td>0</td>\n",
       "      <td>...</td>\n",
       "      <td>7</td>\n",
       "      <td>1180</td>\n",
       "      <td>0</td>\n",
       "      <td>1955</td>\n",
       "      <td>0</td>\n",
       "      <td>98178</td>\n",
       "      <td>47.5112</td>\n",
       "      <td>-122.257</td>\n",
       "      <td>1340</td>\n",
       "      <td>5650</td>\n",
       "    </tr>\n",
       "    <tr>\n",
       "      <th>1</th>\n",
       "      <td>6414100192</td>\n",
       "      <td>20141209T000000</td>\n",
       "      <td>538000.0</td>\n",
       "      <td>3</td>\n",
       "      <td>2.25</td>\n",
       "      <td>2570</td>\n",
       "      <td>7242</td>\n",
       "      <td>2.0</td>\n",
       "      <td>0</td>\n",
       "      <td>0</td>\n",
       "      <td>...</td>\n",
       "      <td>7</td>\n",
       "      <td>2170</td>\n",
       "      <td>400</td>\n",
       "      <td>1951</td>\n",
       "      <td>1991</td>\n",
       "      <td>98125</td>\n",
       "      <td>47.7210</td>\n",
       "      <td>-122.319</td>\n",
       "      <td>1690</td>\n",
       "      <td>7639</td>\n",
       "    </tr>\n",
       "    <tr>\n",
       "      <th>2</th>\n",
       "      <td>5631500400</td>\n",
       "      <td>20150225T000000</td>\n",
       "      <td>180000.0</td>\n",
       "      <td>2</td>\n",
       "      <td>1.00</td>\n",
       "      <td>770</td>\n",
       "      <td>10000</td>\n",
       "      <td>1.0</td>\n",
       "      <td>0</td>\n",
       "      <td>0</td>\n",
       "      <td>...</td>\n",
       "      <td>6</td>\n",
       "      <td>770</td>\n",
       "      <td>0</td>\n",
       "      <td>1933</td>\n",
       "      <td>0</td>\n",
       "      <td>98028</td>\n",
       "      <td>47.7379</td>\n",
       "      <td>-122.233</td>\n",
       "      <td>2720</td>\n",
       "      <td>8062</td>\n",
       "    </tr>\n",
       "    <tr>\n",
       "      <th>3</th>\n",
       "      <td>2487200875</td>\n",
       "      <td>20141209T000000</td>\n",
       "      <td>604000.0</td>\n",
       "      <td>4</td>\n",
       "      <td>3.00</td>\n",
       "      <td>1960</td>\n",
       "      <td>5000</td>\n",
       "      <td>1.0</td>\n",
       "      <td>0</td>\n",
       "      <td>0</td>\n",
       "      <td>...</td>\n",
       "      <td>7</td>\n",
       "      <td>1050</td>\n",
       "      <td>910</td>\n",
       "      <td>1965</td>\n",
       "      <td>0</td>\n",
       "      <td>98136</td>\n",
       "      <td>47.5208</td>\n",
       "      <td>-122.393</td>\n",
       "      <td>1360</td>\n",
       "      <td>5000</td>\n",
       "    </tr>\n",
       "    <tr>\n",
       "      <th>4</th>\n",
       "      <td>1954400510</td>\n",
       "      <td>20150218T000000</td>\n",
       "      <td>510000.0</td>\n",
       "      <td>3</td>\n",
       "      <td>2.00</td>\n",
       "      <td>1680</td>\n",
       "      <td>8080</td>\n",
       "      <td>1.0</td>\n",
       "      <td>0</td>\n",
       "      <td>0</td>\n",
       "      <td>...</td>\n",
       "      <td>8</td>\n",
       "      <td>1680</td>\n",
       "      <td>0</td>\n",
       "      <td>1987</td>\n",
       "      <td>0</td>\n",
       "      <td>98074</td>\n",
       "      <td>47.6168</td>\n",
       "      <td>-122.045</td>\n",
       "      <td>1800</td>\n",
       "      <td>7503</td>\n",
       "    </tr>\n",
       "  </tbody>\n",
       "</table>\n",
       "<p>5 rows × 21 columns</p>\n",
       "</div>"
      ],
      "text/plain": [
       "           id             date     price  bedrooms  bathrooms  sqft_living  \\\n",
       "0  7129300520  20141013T000000  221900.0         3       1.00         1180   \n",
       "1  6414100192  20141209T000000  538000.0         3       2.25         2570   \n",
       "2  5631500400  20150225T000000  180000.0         2       1.00          770   \n",
       "3  2487200875  20141209T000000  604000.0         4       3.00         1960   \n",
       "4  1954400510  20150218T000000  510000.0         3       2.00         1680   \n",
       "\n",
       "   sqft_lot  floors  waterfront  view  ...  grade  sqft_above  sqft_basement  \\\n",
       "0      5650     1.0           0     0  ...      7        1180              0   \n",
       "1      7242     2.0           0     0  ...      7        2170            400   \n",
       "2     10000     1.0           0     0  ...      6         770              0   \n",
       "3      5000     1.0           0     0  ...      7        1050            910   \n",
       "4      8080     1.0           0     0  ...      8        1680              0   \n",
       "\n",
       "   yr_built  yr_renovated  zipcode      lat     long  sqft_living15  \\\n",
       "0      1955             0    98178  47.5112 -122.257           1340   \n",
       "1      1951          1991    98125  47.7210 -122.319           1690   \n",
       "2      1933             0    98028  47.7379 -122.233           2720   \n",
       "3      1965             0    98136  47.5208 -122.393           1360   \n",
       "4      1987             0    98074  47.6168 -122.045           1800   \n",
       "\n",
       "   sqft_lot15  \n",
       "0        5650  \n",
       "1        7639  \n",
       "2        8062  \n",
       "3        5000  \n",
       "4        7503  \n",
       "\n",
       "[5 rows x 21 columns]"
      ]
     },
     "execution_count": 7,
     "metadata": {},
     "output_type": "execute_result"
    }
   ],
   "source": [
    "df = pd.read_csv('kc_house_data.csv')\n",
    "df.head()"
   ]
  },
  {
   "cell_type": "code",
   "execution_count": 8,
   "id": "9f03f5ff",
   "metadata": {},
   "outputs": [
    {
     "name": "stdout",
     "output_type": "stream",
     "text": [
      "(21613, 21)\n",
      "Index(['id', 'date', 'price', 'bedrooms', 'bathrooms', 'sqft_living',\n",
      "       'sqft_lot', 'floors', 'waterfront', 'view', 'condition', 'grade',\n",
      "       'sqft_above', 'sqft_basement', 'yr_built', 'yr_renovated', 'zipcode',\n",
      "       'lat', 'long', 'sqft_living15', 'sqft_lot15'],\n",
      "      dtype='object')\n"
     ]
    }
   ],
   "source": [
    "print(df.shape)\n",
    "print(df.columns)"
   ]
  },
  {
   "cell_type": "code",
   "execution_count": 9,
   "id": "00add958",
   "metadata": {},
   "outputs": [
    {
     "name": "stdout",
     "output_type": "stream",
     "text": [
      "<class 'pandas.core.frame.DataFrame'>\n",
      "RangeIndex: 21613 entries, 0 to 21612\n",
      "Data columns (total 21 columns):\n",
      " #   Column         Non-Null Count  Dtype  \n",
      "---  ------         --------------  -----  \n",
      " 0   id             21613 non-null  int64  \n",
      " 1   date           21613 non-null  object \n",
      " 2   price          21613 non-null  float64\n",
      " 3   bedrooms       21613 non-null  int64  \n",
      " 4   bathrooms      21613 non-null  float64\n",
      " 5   sqft_living    21613 non-null  int64  \n",
      " 6   sqft_lot       21613 non-null  int64  \n",
      " 7   floors         21613 non-null  float64\n",
      " 8   waterfront     21613 non-null  int64  \n",
      " 9   view           21613 non-null  int64  \n",
      " 10  condition      21613 non-null  int64  \n",
      " 11  grade          21613 non-null  int64  \n",
      " 12  sqft_above     21613 non-null  int64  \n",
      " 13  sqft_basement  21613 non-null  int64  \n",
      " 14  yr_built       21613 non-null  int64  \n",
      " 15  yr_renovated   21613 non-null  int64  \n",
      " 16  zipcode        21613 non-null  int64  \n",
      " 17  lat            21613 non-null  float64\n",
      " 18  long           21613 non-null  float64\n",
      " 19  sqft_living15  21613 non-null  int64  \n",
      " 20  sqft_lot15     21613 non-null  int64  \n",
      "dtypes: float64(5), int64(15), object(1)\n",
      "memory usage: 3.5+ MB\n"
     ]
    }
   ],
   "source": [
    "df.info()"
   ]
  },
  {
   "cell_type": "code",
   "execution_count": 10,
   "id": "1acdf53c",
   "metadata": {},
   "outputs": [
    {
     "data": {
      "text/plain": [
       "id               0\n",
       "date             0\n",
       "price            0\n",
       "bedrooms         0\n",
       "bathrooms        0\n",
       "sqft_living      0\n",
       "sqft_lot         0\n",
       "floors           0\n",
       "waterfront       0\n",
       "view             0\n",
       "condition        0\n",
       "grade            0\n",
       "sqft_above       0\n",
       "sqft_basement    0\n",
       "yr_built         0\n",
       "yr_renovated     0\n",
       "zipcode          0\n",
       "lat              0\n",
       "long             0\n",
       "sqft_living15    0\n",
       "sqft_lot15       0\n",
       "dtype: int64"
      ]
     },
     "execution_count": 10,
     "metadata": {},
     "output_type": "execute_result"
    }
   ],
   "source": [
    "#df = df.dropna()\n",
    "df.isnull().sum()"
   ]
  },
  {
   "cell_type": "markdown",
   "id": "b800e430",
   "metadata": {},
   "source": [
    "### Section 2"
   ]
  },
  {
   "cell_type": "markdown",
   "id": "b6d51ca0",
   "metadata": {},
   "source": [
    "- Exploring and visualizing data "
   ]
  },
  {
   "cell_type": "code",
   "execution_count": null,
   "id": "f3348ef8",
   "metadata": {},
   "outputs": [],
   "source": [
    "df.plot(kind=\"scatter\", x=\"long\", y=\"lat\", grid=True,\n",
    "             label=\"price\",\n",
    "             c=\"price\", cmap=\"viridis\", colorbar=True,\n",
    "             legend=True, sharex=False, figsize=(10, 7))\n",
    "#save_fig(\"housing_prices_scatterplot\")  # extra code\n",
    "plt.show()"
   ]
  },
  {
   "cell_type": "code",
   "execution_count": null,
   "id": "a8ae62b0",
   "metadata": {},
   "outputs": [],
   "source": [
    "#for the sake of simplicity lets drop a few features\n",
    "todrop = ['sqft_above', 'sqft_basement', 'yr_renovated', 'sqft_living15', 'sqft_lot15','id']\n",
    "\n",
    "# Drop the specified columns\n",
    "df.drop(columns=todrop, inplace=True)\n",
    "\n",
    "# Verify the resulting DataFrame\n",
    "df.head()"
   ]
  },
  {
   "cell_type": "code",
   "execution_count": null,
   "id": "691cb6fe",
   "metadata": {},
   "outputs": [],
   "source": [
    "import seaborn as sns\n",
    "# https://seaborn.pydata.org/api.html\n",
    "# refer to link for furthur details about seaborn plots\n",
    "\n",
    "columns_for_use = ['yr_built','price','bedrooms', 'bathrooms', 'sqft_living', 'floors','grade','sqft_lot']"
   ]
  },
  {
   "cell_type": "code",
   "execution_count": null,
   "id": "257a9223",
   "metadata": {},
   "outputs": [],
   "source": [
    "sns.pairplot(df[columns_for_use]);"
   ]
  },
  {
   "cell_type": "markdown",
   "id": "f8ba2aac",
   "metadata": {},
   "source": [
    "Goal to look for any feature that might have multicollinearity"
   ]
  },
  {
   "cell_type": "code",
   "execution_count": null,
   "id": "6e1991c7",
   "metadata": {},
   "outputs": [],
   "source": [
    "corr_matrix = df[columns_for_use].corr()\n",
    "corr_matrix"
   ]
  },
  {
   "cell_type": "code",
   "execution_count": null,
   "id": "bc0de252",
   "metadata": {},
   "outputs": [],
   "source": [
    "corr_matrix[\"price\"].sort_values(ascending=False)"
   ]
  },
  {
   "cell_type": "code",
   "execution_count": null,
   "id": "3fffe3e2",
   "metadata": {},
   "outputs": [],
   "source": [
    "sns.heatmap(corr_matrix, annot=True, cmap=\"plasma\")\n",
    "plt.show()"
   ]
  },
  {
   "cell_type": "code",
   "execution_count": null,
   "id": "b67d3cca",
   "metadata": {},
   "outputs": [],
   "source": [
    "df.describe().apply(lambda s: s.apply('{0:.5f}'.format))"
   ]
  },
  {
   "cell_type": "markdown",
   "id": "bf239a7a",
   "metadata": {},
   "source": [
    "For other exploratory analysis, can look utilize a box plot for outlier detection or a histogram of each column for frequence"
   ]
  },
  {
   "cell_type": "code",
   "execution_count": null,
   "id": "1090413b",
   "metadata": {},
   "outputs": [],
   "source": [
    "# Other functionss in pandas\n",
    "# https://pandas.pydata.org/docs/\n",
    "# refer to link for futhur details about pandas functions\n",
    "\n",
    "df['price'].max()\n",
    "df['price'].min()\n",
    "df['price'].mean()\n",
    "df['price'].medium()\n",
    "df['price'].std()\n",
    "df['price'].count()\n",
    "\n",
    "\n",
    "df.index() # retrieve index of a variable \n",
    "\n",
    "df.iloc[0] #refer row by index\n",
    "df.loc['r'] #refer to row by label\n",
    "\n",
    "#iterate through a index of a row\n",
    "for price in df['price']:\n",
    "    print(price)"
   ]
  },
  {
   "cell_type": "markdown",
   "id": "4b8f92b5",
   "metadata": {},
   "source": [
    "### Section 3"
   ]
  },
  {
   "cell_type": "markdown",
   "id": "860bac76",
   "metadata": {},
   "source": [
    "- Partitioning Data\n",
    "- Understanding the functions in sklearn\n",
    "- Metric vs Loss\n",
    "- Supervised vs Unsupervised\n",
    "- Overfitting and Underfitting\n",
    "- K-Fold"
   ]
  },
  {
   "cell_type": "markdown",
   "id": "71fbd0e8",
   "metadata": {},
   "source": [
    "![training2](training2.png)"
   ]
  },
  {
   "cell_type": "code",
   "execution_count": 11,
   "id": "da066c58",
   "metadata": {},
   "outputs": [],
   "source": [
    "from sklearn.model_selection import train_test_split\n",
    "\n",
    "#uses arrays double [] to put columns in a array \n",
    "X = df[['sqft_living']]\n",
    "y = df['price']\n",
    "\n",
    "X_train, X_test, y_train, y_test = train_test_split(X, y, test_size=0.2, random_state=50)"
   ]
  },
  {
   "cell_type": "markdown",
   "id": "c1a2be63",
   "metadata": {},
   "source": [
    "![standardize](OIP.jpg)"
   ]
  },
  {
   "cell_type": "code",
   "execution_count": 12,
   "id": "44680299",
   "metadata": {},
   "outputs": [],
   "source": [
    "from sklearn.preprocessing import StandardScaler\n",
    "\n",
    "scaler = StandardScaler()\n",
    "scaler.fit(X_train)\n",
    "scaled_train = scaler.transform(X_train)\n",
    "scaled_test = scaler.transform(X_test)"
   ]
  },
  {
   "cell_type": "markdown",
   "id": "056dd151",
   "metadata": {},
   "source": [
    "https://scikit-learn.org/stable/modules/generated/sklearn.linear_model.LinearRegression.html"
   ]
  },
  {
   "cell_type": "markdown",
   "id": "914cd824",
   "metadata": {},
   "source": [
    "![methods](methods.png)"
   ]
  },
  {
   "cell_type": "markdown",
   "id": "deda084f",
   "metadata": {},
   "source": [
    "- fit, storing instances of train data\n",
    "- predict, function to perform algorithm on model\n",
    "- set_params, manually setting parameters \n",
    "- get_params, retriving the parameters used"
   ]
  },
  {
   "cell_type": "markdown",
   "id": "ad3694fd",
   "metadata": {},
   "source": [
    "![tradeoff](tradeoff.png)"
   ]
  },
  {
   "cell_type": "markdown",
   "id": "e5cd2e52",
   "metadata": {},
   "source": [
    "### Section 4"
   ]
  },
  {
   "cell_type": "code",
   "execution_count": null,
   "id": "95184ecb",
   "metadata": {},
   "outputs": [],
   "source": []
  },
  {
   "cell_type": "markdown",
   "id": "86175e81",
   "metadata": {},
   "source": [
    "![formula](regress_formula.jpg)"
   ]
  },
  {
   "cell_type": "code",
   "execution_count": null,
   "id": "c3458b56",
   "metadata": {},
   "outputs": [],
   "source": [
    "from sklearn.linear_model import LinearRegression\n",
    "import matplotlib.pyplot as plt\n",
    "\n",
    "# Train the model\n",
    "model_slm = LinearRegression() #OLS\n",
    "model_slm.fit(X_train, y_train)\n",
    "\n",
    "# Predict on test data\n",
    "y_pred = model_slm.predict(X_test)\n",
    "\n",
    "X_test_array = X_test['sqft_living'].values\n",
    "\n",
    "# Plot the results\n",
    "plt.figure(figsize=(10, 6))\n",
    "plt.scatter(X_test_array, y_test, color='b', alpha=0.3, label='Actual')\n",
    "plt.plot(X_test_array, y_pred, color='r', label='Trend line')\n",
    "plt.xlabel(\"sqft_living\")\n",
    "plt.ylabel(\"price\")\n",
    "plt.ticklabel_format(style='plain', axis='y')\n",
    "plt.legend()\n",
    "plt.show()"
   ]
  },
  {
   "cell_type": "code",
   "execution_count": null,
   "id": "30f84aa1",
   "metadata": {},
   "outputs": [],
   "source": [
    "coef = model_slm.coef_[0]\n",
    "intercept = model_slm.intercept_\n",
    "\n",
    "print(f\"Equation of the trendline: y = {coef:.3}x + {intercept:.3}\")"
   ]
  },
  {
   "cell_type": "markdown",
   "id": "fd438d50",
   "metadata": {},
   "source": [
    "##### Metrics and Loss"
   ]
  },
  {
   "cell_type": "markdown",
   "id": "fb196fbd",
   "metadata": {},
   "source": [
    "![loss](modified.png)"
   ]
  },
  {
   "cell_type": "markdown",
   "id": "80a147b6",
   "metadata": {},
   "source": [
    "https://scikit-learn.org/stable/modules/model_evaluation.html#regression-metrics"
   ]
  },
  {
   "cell_type": "code",
   "execution_count": null,
   "id": "2643a53d",
   "metadata": {},
   "outputs": [],
   "source": [
    "from sklearn.metrics import r2_score\n",
    "from sklearn.metrics import mean_absolute_error\n",
    "from sklearn.metrics import mean_squared_error\n",
    "\n",
    "print(\"R^2 score: \", r2_score(y_test, y_pred))\n",
    "print(\"MAE: \", mean_absolute_error(y_test, y_pred))\n",
    "print(\"MSE: \", mean_squared_error(y_test, y_pred))"
   ]
  },
  {
   "cell_type": "markdown",
   "id": "3ee7734b",
   "metadata": {},
   "source": [
    "##### Residuals"
   ]
  },
  {
   "cell_type": "code",
   "execution_count": null,
   "id": "3e50f4c9",
   "metadata": {},
   "outputs": [],
   "source": [
    "y_test_array = y_test.to_numpy()\n",
    "residuals = y_test - y_pred\n",
    "\n",
    "# Plotting the residuals\n",
    "plt.figure(figsize=(10, 6))  # Define figure size\n",
    "sns.scatterplot(x=X_test_array, y=residuals, color='blue')\n",
    "plt.axhline(y=0, color='red', linestyle='--')\n",
    "plt.xlabel('sqft_living')\n",
    "plt.ylabel('Residuals')\n",
    "plt.title('Residual Plot')\n",
    "plt.show()"
   ]
  },
  {
   "cell_type": "markdown",
   "id": "48bad679",
   "metadata": {},
   "source": [
    "Residual plot tells us about the goodness of fit for the model (how well the model perform):\n",
    "   - Closer to 0 the better\n",
    "   - If there is homoscedasticity (does it remain close to a trend line) or hetroscedasticity (scatter a cloud pattern as it continues)\n",
    "   - A pattern (need to add a degree to the function)\n",
    "   - Outliers"
   ]
  },
  {
   "cell_type": "markdown",
   "id": "2949b024",
   "metadata": {},
   "source": [
    "###### Using statmodel"
   ]
  },
  {
   "cell_type": "markdown",
   "id": "71fe3220",
   "metadata": {},
   "source": [
    "https://www.statsmodels.org/stable/generated/statsmodels.regression.linear_model.OLS.html#statsmodels.regression.linear_model.OLS"
   ]
  },
  {
   "cell_type": "code",
   "execution_count": null,
   "id": "f06ed4e7",
   "metadata": {},
   "outputs": [],
   "source": [
    "import statsmodels.formula.api as smf\n",
    "import statsmodels.api as sm\n",
    "\n",
    "#define response variable\n",
    "y = df['price']\n",
    "\n",
    "#define explanatory variable\n",
    "x = df[['sqft_living']]\n",
    "\n",
    "#add constant to predictor variables\n",
    "x = sm.add_constant(x)\n",
    "\n",
    "#fit linear regression model\n",
    "model = sm.OLS(y, x).fit()\n",
    "\n",
    "#view model summary\n",
    "print(model.summary())\n",
    "\n",
    "est = smf.ols('price ~ sqft_living', df).fit()\n",
    "est.summary().tables[1]"
   ]
  },
  {
   "cell_type": "markdown",
   "id": "70c73f3c",
   "metadata": {},
   "source": [
    "##### Stochastic Gradient Descent"
   ]
  },
  {
   "cell_type": "markdown",
   "id": "eb642ee8",
   "metadata": {},
   "source": [
    "https://scikit-learn.org/stable/modules/generated/sklearn.linear_model.SGDRegressor.html#examples-using-sklearn-linear-model-sgdregressor"
   ]
  },
  {
   "cell_type": "code",
   "execution_count": null,
   "id": "82823ac1",
   "metadata": {},
   "outputs": [],
   "source": [
    "from sklearn.linear_model import SGDRegressor\n",
    "\n",
    "# Initialize the SGDRegressor\n",
    "sgd_regressor = SGDRegressor(max_iter=1000, tol=1e-3, random_state=42)\n",
    "\n",
    "# Train the model\n",
    "sgd_regressor.fit(X_train, y_train)\n",
    "\n",
    "# Make predictions on the testing set\n",
    "y_pred = sgd_regressor.predict(X_test)\n",
    "\n",
    "# Evaluate the model\n",
    "mse = mean_squared_error(y_test, y_pred)\n",
    "print(\"Mean Squared Error:\", mse)\n",
    "\n",
    "# Get the coefficients\n",
    "coefficients = sgd_regressor.coef_\n",
    "\n",
    "# Get the intercept\n",
    "intercept = sgd_regressor.intercept_"
   ]
  },
  {
   "cell_type": "markdown",
   "id": "7dd0751d",
   "metadata": {},
   "source": [
    "K-fold or AutoMl for parameters"
   ]
  },
  {
   "cell_type": "markdown",
   "id": "c396132f",
   "metadata": {},
   "source": [
    "https://www.statology.org/k-fold-cross-validation-in-python/"
   ]
  },
  {
   "cell_type": "markdown",
   "id": "666b6f7e-d492-4a1a-aa1e-42fcb8f8569b",
   "metadata": {},
   "source": [
    "**Note:**"
   ]
  },
  {
   "cell_type": "markdown",
   "id": "c45ccddc-c414-45e7-a3ce-4a5322de164b",
   "metadata": {},
   "source": [
    "![Gradient](Gradient.png)"
   ]
  },
  {
   "cell_type": "markdown",
   "id": "eb0e5816-192e-4e9d-bfa9-ecf3f06d7444",
   "metadata": {},
   "source": [
    "![saddle](saddle.png)"
   ]
  },
  {
   "cell_type": "markdown",
   "id": "f2c0b154-b1ad-46d3-8bb0-e247bb4e8192",
   "metadata": {},
   "source": [
    "![formula](Cost-Function.jpg)"
   ]
  },
  {
   "cell_type": "markdown",
   "id": "3ca957c7-4b61-489e-8c81-86a245e707a4",
   "metadata": {},
   "source": [
    "Gradient is the partial derivatives of the loss function in respect to the parameters.\n",
    "Learning rate is rate where one \"step\" is taken for each iteration.\n",
    "Gradient Descent is iterative, will keep subtracting until parameters no longer change or barely change.\n",
    "Why does it work? The goal of any model is to minimize loss or error. Concept being if the parameter doesn't change, it means that the error has reached it's minimum."
   ]
  },
  {
   "cell_type": "code",
   "execution_count": null,
   "id": "d7a7aa1f-dd26-4b83-bd17-17b5cc7ab10a",
   "metadata": {},
   "outputs": [],
   "source": [
    "from sklearn.model_selection import KFold\n",
    "\n",
    "model = model_type()\n",
    "\n",
    "# Define the number of folds\n",
    "k = 5\n",
    "\n",
    "# Initialize KFold\n",
    "kf = KFold(n_splits=k, shuffle=True, random_state=42)\n",
    "\n",
    "# Lists to store scores for each fold\n",
    "scores = []\n",
    "\n",
    "# Perform k-fold cross-validation\n",
    "for train_index, test_index in kf.split(X):\n",
    "    X_train, X_test = X[train_index], X[test_index]\n",
    "    y_train, y_test = y[train_index], y[test_index]\n",
    "    \n",
    "    # Fit the model\n",
    "    tree_reg.fit(X_train, y_train)\n",
    "    \n",
    "    # Predict on the test set\n",
    "    y_pred = model.predict(X_test)\n",
    "    \n",
    "    # Calculate cost\n",
    "    rmse = np.sqrt(mean_squared_error(y_test, y_pred))\n",
    "    rmse_scores.append(rmse)\n",
    "\n",
    "# Calculate average cost\n",
    "avg_rmse = np.mean(rmse_scores)\n",
    "\n",
    "print(f\"Average RMSE: {avg_rmse}\")"
   ]
  },
  {
   "cell_type": "markdown",
   "id": "4d47a299",
   "metadata": {},
   "source": [
    "### Section 5: Multi-variate"
   ]
  },
  {
   "cell_type": "code",
   "execution_count": null,
   "id": "81a4734d",
   "metadata": {},
   "outputs": [],
   "source": [
    "from sklearn.model_selection import train_test_split\n",
    "\n",
    "# Assuming 'df' is your DataFrame containing the dataset\n",
    "X = df[['bathrooms', 'bedrooms','grade', 'sqft_living']]\n",
    "y = df['price']\n",
    "\n",
    "X_train, X_test, y_train, y_test = train_test_split(X, y, test_size=0.2, random_state=50)"
   ]
  },
  {
   "cell_type": "code",
   "execution_count": null,
   "id": "c91b79cc",
   "metadata": {},
   "outputs": [],
   "source": [
    "from sklearn.metrics import mean_absolute_error, mean_squared_error, r2_score\n",
    "\n",
    "model2 = LinearRegression() \n",
    "model2.fit(X_train,y_train)\n",
    "y_pred = model2.predict(X_test) \n",
    "\n",
    "print(\"Intercept: \", model2.intercept_)\n",
    "print(\"Coefficients: \", model2.coef_)\n",
    "\n",
    "print('mean_squared_error : ', mean_squared_error(y_test, y_pred)) \n",
    "print('mean_absolute_error : ', mean_absolute_error(y_test, y_pred))\n",
    "r2 = r2_score(y_test, y_pred)\n",
    "print(\"R-squared:\", r2)"
   ]
  },
  {
   "cell_type": "code",
   "execution_count": null,
   "id": "45c03631",
   "metadata": {},
   "outputs": [],
   "source": [
    "x = sm.add_constant(x)\n",
    "\n",
    "#fit linear regression model\n",
    "model = sm.OLS(y,X).fit()\n",
    "print(model.summary())"
   ]
  },
  {
   "cell_type": "code",
   "execution_count": null,
   "id": "68031694",
   "metadata": {},
   "outputs": [],
   "source": [
    "est = smf.ols('price ~ sqft_living + bathrooms + grade + bedrooms', df).fit()\n",
    "est.summary().tables[1]"
   ]
  },
  {
   "cell_type": "code",
   "execution_count": null,
   "id": "bd01c3b5",
   "metadata": {},
   "outputs": [],
   "source": [
    "from sklearn.linear_model import SGDRegressor\n",
    "\n",
    "# Initialize the SGDRegressor\n",
    "sgd_regressor = SGDRegressor(max_iter=1000, tol=1e-3, random_state=42)\n",
    "\n",
    "# Train the model\n",
    "sgd_regressor.fit(X_train, y_train)\n",
    "\n",
    "# Make predictions on the testing set\n",
    "y_pred = sgd_regressor.predict(X_test)\n",
    "\n",
    "# Evaluate the model\n",
    "mse = mean_squared_error(y_test, y_pred)\n",
    "print(\"Mean Squared Error:\", mse)\n",
    "\n",
    "# Get the coefficients\n",
    "coefficients = sgd_regressor.coef_\n",
    "\n",
    "# Get the intercept\n",
    "intercept = sgd_regressor.intercept_"
   ]
  },
  {
   "cell_type": "markdown",
   "id": "f885ee06-5a1a-4829-9feb-08ae77074ddb",
   "metadata": {},
   "source": [
    "### Section 6: Outside of linear regression"
   ]
  },
  {
   "cell_type": "code",
   "execution_count": 13,
   "id": "459b37bf-26ca-49ee-a0a4-a059f31f178c",
   "metadata": {},
   "outputs": [],
   "source": [
    "from sklearn.tree import DecisionTreeRegressor\n",
    "\n",
    "tree_reg = DecisionTreeRegressor(max_depth=4, random_state=42)"
   ]
  },
  {
   "cell_type": "code",
   "execution_count": 17,
   "id": "ac1d9ed5-c519-41f5-bd08-c24ad59fad5e",
   "metadata": {},
   "outputs": [
    {
     "data": {
      "image/png": "[encoded data removed]",
      "text/plain": [
       "<Figure size 640x480 with 1 Axes>"
      ]
     },
     "metadata": {},
     "output_type": "display_data"
    }
   ],
   "source": [
    "def plot_regression_predictions(tree_reg, X_train, y_train, X_test, y_test):\n",
    "    tree_reg.fit(X_train, y_train)\n",
    "    y_pred = tree_reg.predict(X_test)\n",
    "    \n",
    "    plt.plot(X_train, y_train, \"b.\")\n",
    "    plt.plot(X_test, y_pred, \"r.-\", linewidth=2)\n",
    "\n",
    "plot_regression_predictions(tree_reg, scaled_train, y_train, scaled_test, y_test)"
   ]
  },
  {
   "cell_type": "markdown",
   "id": "1630d3fb-0164-4636-bf0b-e4ca57e9b55e",
   "metadata": {},
   "source": [
    "Not a good model"
   ]
  },
  {
   "cell_type": "code",
   "execution_count": null,
   "id": "c107a717-185b-49b6-95fa-db6f8b4ae5ee",
   "metadata": {},
   "outputs": [],
   "source": []
  }
 ],
 "metadata": {
  "kernelspec": {
   "display_name": "Python 3 (ipykernel)",
   "language": "python",
   "name": "python3"
  },
  "language_info": {
   "codemirror_mode": {
    "name": "ipython",
    "version": 3
   },
   "file_extension": ".py",
   "mimetype": "text/x-python",
   "name": "python",
   "nbconvert_exporter": "python",
   "pygments_lexer": "ipython3",
   "version": "3.11.7"
  }
 },
 "nbformat": 4,
 "nbformat_minor": 5
}
